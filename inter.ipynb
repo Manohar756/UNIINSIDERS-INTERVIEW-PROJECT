{
 "cells": [
  {
   "cell_type": "code",
   "execution_count": 14,
   "id": "679c5975",
   "metadata": {},
   "outputs": [],
   "source": [
    "import numpy as np\n",
    "import pandas as pd\n",
    "import matplotlib.pyplot as plt #visualizing data\n",
    "%matplotlib inline\n",
    "import seaborn as sns"
   ]
  },
  {
   "cell_type": "code",
   "execution_count": 15,
   "id": "8711f5f2",
   "metadata": {},
   "outputs": [],
   "source": [
    "df = pd.read_csv('intern.csv', encoding= 'unicode_escape')\n",
    "#to avoid encoding error, use 'unicode_escape'"
   ]
  },
  {
   "cell_type": "code",
   "execution_count": 16,
   "id": "9ce4048f",
   "metadata": {},
   "outputs": [
    {
     "data": {
      "text/plain": [
       "(15, 3)"
      ]
     },
     "execution_count": 16,
     "metadata": {},
     "output_type": "execute_result"
    }
   ],
   "source": [
    "df.shape"
   ]
  },
  {
   "cell_type": "code",
   "execution_count": 31,
   "id": "b7e5ab4e",
   "metadata": {
    "scrolled": true
   },
   "outputs": [
    {
     "data": {
      "text/html": [
       "<div>\n",
       "<style scoped>\n",
       "    .dataframe tbody tr th:only-of-type {\n",
       "        vertical-align: middle;\n",
       "    }\n",
       "\n",
       "    .dataframe tbody tr th {\n",
       "        vertical-align: top;\n",
       "    }\n",
       "\n",
       "    .dataframe thead th {\n",
       "        text-align: right;\n",
       "    }\n",
       "</style>\n",
       "<table border=\"1\" class=\"dataframe\">\n",
       "  <thead>\n",
       "    <tr style=\"text-align: right;\">\n",
       "      <th></th>\n",
       "      <th>user_id</th>\n",
       "      <th>TimeStamp</th>\n",
       "      <th>Action</th>\n",
       "      <th>hour</th>\n",
       "    </tr>\n",
       "  </thead>\n",
       "  <tbody>\n",
       "    <tr>\n",
       "      <th>0</th>\n",
       "      <td>1</td>\n",
       "      <td>2023-01-01 10:15:30</td>\n",
       "      <td>Like</td>\n",
       "      <td>10</td>\n",
       "    </tr>\n",
       "    <tr>\n",
       "      <th>1</th>\n",
       "      <td>2</td>\n",
       "      <td>2023-01-01 11:45:30</td>\n",
       "      <td>Commet</td>\n",
       "      <td>11</td>\n",
       "    </tr>\n",
       "    <tr>\n",
       "      <th>2</th>\n",
       "      <td>3</td>\n",
       "      <td>2023-01-02 12:30:15</td>\n",
       "      <td>Share</td>\n",
       "      <td>12</td>\n",
       "    </tr>\n",
       "    <tr>\n",
       "      <th>3</th>\n",
       "      <td>1</td>\n",
       "      <td>2023-01-02 14:45:00</td>\n",
       "      <td>Commet</td>\n",
       "      <td>14</td>\n",
       "    </tr>\n",
       "    <tr>\n",
       "      <th>4</th>\n",
       "      <td>4</td>\n",
       "      <td>2023-01-03 08:05:30</td>\n",
       "      <td>Like</td>\n",
       "      <td>8</td>\n",
       "    </tr>\n",
       "    <tr>\n",
       "      <th>5</th>\n",
       "      <td>2</td>\n",
       "      <td>2023-01-03 09:10:45</td>\n",
       "      <td>Share</td>\n",
       "      <td>9</td>\n",
       "    </tr>\n",
       "    <tr>\n",
       "      <th>6</th>\n",
       "      <td>3</td>\n",
       "      <td>2023-01-04 15:20:30</td>\n",
       "      <td>Like</td>\n",
       "      <td>15</td>\n",
       "    </tr>\n",
       "    <tr>\n",
       "      <th>7</th>\n",
       "      <td>1</td>\n",
       "      <td>2023-01-05 11:40:15</td>\n",
       "      <td>Share</td>\n",
       "      <td>11</td>\n",
       "    </tr>\n",
       "    <tr>\n",
       "      <th>8</th>\n",
       "      <td>4</td>\n",
       "      <td>2023-01-05 13:55:00</td>\n",
       "      <td>Commet</td>\n",
       "      <td>13</td>\n",
       "    </tr>\n",
       "    <tr>\n",
       "      <th>9</th>\n",
       "      <td>2</td>\n",
       "      <td>2023-01-06 17:10:30</td>\n",
       "      <td>Like</td>\n",
       "      <td>17</td>\n",
       "    </tr>\n",
       "    <tr>\n",
       "      <th>10</th>\n",
       "      <td>3</td>\n",
       "      <td>2023-01-07 18:25:45</td>\n",
       "      <td>Commet</td>\n",
       "      <td>18</td>\n",
       "    </tr>\n",
       "    <tr>\n",
       "      <th>11</th>\n",
       "      <td>1</td>\n",
       "      <td>2023-01-07 19:30:15</td>\n",
       "      <td>Like</td>\n",
       "      <td>19</td>\n",
       "    </tr>\n",
       "    <tr>\n",
       "      <th>12</th>\n",
       "      <td>2</td>\n",
       "      <td>2023-01-08 22:45:00</td>\n",
       "      <td>Share</td>\n",
       "      <td>22</td>\n",
       "    </tr>\n",
       "    <tr>\n",
       "      <th>13</th>\n",
       "      <td>3</td>\n",
       "      <td>2023-01-09 08:30:00</td>\n",
       "      <td>Commet</td>\n",
       "      <td>8</td>\n",
       "    </tr>\n",
       "    <tr>\n",
       "      <th>14</th>\n",
       "      <td>4</td>\n",
       "      <td>2023-01-09 09:05:45</td>\n",
       "      <td>Like</td>\n",
       "      <td>9</td>\n",
       "    </tr>\n",
       "  </tbody>\n",
       "</table>\n",
       "</div>"
      ],
      "text/plain": [
       "    user_id           TimeStamp  Action  hour\n",
       "0         1 2023-01-01 10:15:30    Like    10\n",
       "1         2 2023-01-01 11:45:30  Commet    11\n",
       "2         3 2023-01-02 12:30:15   Share    12\n",
       "3         1 2023-01-02 14:45:00  Commet    14\n",
       "4         4 2023-01-03 08:05:30    Like     8\n",
       "5         2 2023-01-03 09:10:45   Share     9\n",
       "6         3 2023-01-04 15:20:30    Like    15\n",
       "7         1 2023-01-05 11:40:15   Share    11\n",
       "8         4 2023-01-05 13:55:00  Commet    13\n",
       "9         2 2023-01-06 17:10:30    Like    17\n",
       "10        3 2023-01-07 18:25:45  Commet    18\n",
       "11        1 2023-01-07 19:30:15    Like    19\n",
       "12        2 2023-01-08 22:45:00   Share    22\n",
       "13        3 2023-01-09 08:30:00  Commet     8\n",
       "14        4 2023-01-09 09:05:45    Like     9"
      ]
     },
     "execution_count": 31,
     "metadata": {},
     "output_type": "execute_result"
    }
   ],
   "source": [
    "df.head(15)\n"
   ]
  },
  {
   "cell_type": "code",
   "execution_count": 21,
   "id": "bf4d9bfa",
   "metadata": {},
   "outputs": [
    {
     "data": {
      "text/html": [
       "<div>\n",
       "<style scoped>\n",
       "    .dataframe tbody tr th:only-of-type {\n",
       "        vertical-align: middle;\n",
       "    }\n",
       "\n",
       "    .dataframe tbody tr th {\n",
       "        vertical-align: top;\n",
       "    }\n",
       "\n",
       "    .dataframe thead th {\n",
       "        text-align: right;\n",
       "    }\n",
       "</style>\n",
       "<table border=\"1\" class=\"dataframe\">\n",
       "  <thead>\n",
       "    <tr style=\"text-align: right;\">\n",
       "      <th></th>\n",
       "      <th>user_id</th>\n",
       "      <th>TimeStamp</th>\n",
       "      <th>Action</th>\n",
       "    </tr>\n",
       "  </thead>\n",
       "  <tbody>\n",
       "    <tr>\n",
       "      <th>0</th>\n",
       "      <td>1</td>\n",
       "      <td>2023-01-01   10:15:30</td>\n",
       "      <td>Like</td>\n",
       "    </tr>\n",
       "    <tr>\n",
       "      <th>1</th>\n",
       "      <td>2</td>\n",
       "      <td>2023-01-01   11:45:30</td>\n",
       "      <td>Commet</td>\n",
       "    </tr>\n",
       "    <tr>\n",
       "      <th>2</th>\n",
       "      <td>3</td>\n",
       "      <td>2023-01-02   12:30:15</td>\n",
       "      <td>Share</td>\n",
       "    </tr>\n",
       "    <tr>\n",
       "      <th>3</th>\n",
       "      <td>1</td>\n",
       "      <td>2023-01-02   14:45:00</td>\n",
       "      <td>Commet</td>\n",
       "    </tr>\n",
       "    <tr>\n",
       "      <th>4</th>\n",
       "      <td>4</td>\n",
       "      <td>2023-01-03   08:05:30</td>\n",
       "      <td>Like</td>\n",
       "    </tr>\n",
       "    <tr>\n",
       "      <th>5</th>\n",
       "      <td>2</td>\n",
       "      <td>2023-01-03   09:10:45</td>\n",
       "      <td>Share</td>\n",
       "    </tr>\n",
       "    <tr>\n",
       "      <th>6</th>\n",
       "      <td>3</td>\n",
       "      <td>2023-01-04   15:20:30</td>\n",
       "      <td>Like</td>\n",
       "    </tr>\n",
       "    <tr>\n",
       "      <th>7</th>\n",
       "      <td>1</td>\n",
       "      <td>2023-01-05   11:40:15</td>\n",
       "      <td>Share</td>\n",
       "    </tr>\n",
       "    <tr>\n",
       "      <th>8</th>\n",
       "      <td>4</td>\n",
       "      <td>2023-01-05   13:55:00</td>\n",
       "      <td>Commet</td>\n",
       "    </tr>\n",
       "    <tr>\n",
       "      <th>9</th>\n",
       "      <td>2</td>\n",
       "      <td>2023-01-06   17:10:30</td>\n",
       "      <td>Like</td>\n",
       "    </tr>\n",
       "    <tr>\n",
       "      <th>10</th>\n",
       "      <td>3</td>\n",
       "      <td>2023-01-07   18:25:45</td>\n",
       "      <td>Commet</td>\n",
       "    </tr>\n",
       "    <tr>\n",
       "      <th>11</th>\n",
       "      <td>1</td>\n",
       "      <td>2023-01-07   19:30:15</td>\n",
       "      <td>Like</td>\n",
       "    </tr>\n",
       "    <tr>\n",
       "      <th>12</th>\n",
       "      <td>2</td>\n",
       "      <td>2023-01-08   22:45:00</td>\n",
       "      <td>Share</td>\n",
       "    </tr>\n",
       "    <tr>\n",
       "      <th>13</th>\n",
       "      <td>3</td>\n",
       "      <td>2023-01-09   08:30:00</td>\n",
       "      <td>Commet</td>\n",
       "    </tr>\n",
       "    <tr>\n",
       "      <th>14</th>\n",
       "      <td>4</td>\n",
       "      <td>2023-01-09   09:05:45</td>\n",
       "      <td>Like</td>\n",
       "    </tr>\n",
       "  </tbody>\n",
       "</table>\n",
       "</div>"
      ],
      "text/plain": [
       "    user_id              TimeStamp  Action\n",
       "0         1  2023-01-01   10:15:30    Like\n",
       "1         2  2023-01-01   11:45:30  Commet\n",
       "2         3  2023-01-02   12:30:15   Share\n",
       "3         1  2023-01-02   14:45:00  Commet\n",
       "4         4  2023-01-03   08:05:30    Like\n",
       "5         2  2023-01-03   09:10:45   Share\n",
       "6         3  2023-01-04   15:20:30    Like\n",
       "7         1  2023-01-05   11:40:15   Share\n",
       "8         4  2023-01-05   13:55:00  Commet\n",
       "9         2  2023-01-06   17:10:30    Like\n",
       "10        3  2023-01-07   18:25:45  Commet\n",
       "11        1  2023-01-07   19:30:15    Like\n",
       "12        2  2023-01-08   22:45:00   Share\n",
       "13        3  2023-01-09   08:30:00  Commet\n",
       "14        4  2023-01-09   09:05:45    Like"
      ]
     },
     "execution_count": 21,
     "metadata": {},
     "output_type": "execute_result"
    }
   ],
   "source": [
    "df.head(15)"
   ]
  },
  {
   "cell_type": "code",
   "execution_count": 19,
   "id": "c4f18fbf",
   "metadata": {},
   "outputs": [
    {
     "name": "stdout",
     "output_type": "stream",
     "text": [
      "<class 'pandas.core.frame.DataFrame'>\n",
      "RangeIndex: 15 entries, 0 to 14\n",
      "Data columns (total 3 columns):\n",
      " #   Column     Non-Null Count  Dtype \n",
      "---  ------     --------------  ----- \n",
      " 0   user_id    15 non-null     int64 \n",
      " 1   TimeStamp  15 non-null     object\n",
      " 2   Action     15 non-null     object\n",
      "dtypes: int64(1), object(2)\n",
      "memory usage: 488.0+ bytes\n"
     ]
    }
   ],
   "source": [
    "df.info()"
   ]
  },
  {
   "cell_type": "code",
   "execution_count": 22,
   "id": "ac1fe79c",
   "metadata": {},
   "outputs": [
    {
     "data": {
      "text/plain": [
       "user_id      0\n",
       "TimeStamp    0\n",
       "Action       0\n",
       "dtype: int64"
      ]
     },
     "execution_count": 22,
     "metadata": {},
     "output_type": "execute_result"
    }
   ],
   "source": [
    "pd.isnull(df).sum()"
   ]
  },
  {
   "cell_type": "code",
   "execution_count": 23,
   "id": "b403b7ab",
   "metadata": {},
   "outputs": [
    {
     "data": {
      "text/plain": [
       "Index(['user_id', 'TimeStamp', 'Action'], dtype='object')"
      ]
     },
     "execution_count": 23,
     "metadata": {},
     "output_type": "execute_result"
    }
   ],
   "source": [
    "df.columns"
   ]
  },
  {
   "cell_type": "code",
   "execution_count": 24,
   "id": "a2d6fa56",
   "metadata": {},
   "outputs": [],
   "source": [
    "total_action_by_user = df['user_id'].value_counts()"
   ]
  },
  {
   "cell_type": "code",
   "execution_count": 25,
   "id": "40b730ec",
   "metadata": {},
   "outputs": [],
   "source": [
    "most_common_action = df['Action'].mode()[0]"
   ]
  },
  {
   "cell_type": "code",
   "execution_count": 26,
   "id": "39221c3b",
   "metadata": {},
   "outputs": [],
   "source": [
    "user_with_highest_engagement = total_action_by_user.idxmax()"
   ]
  },
  {
   "cell_type": "code",
   "execution_count": 27,
   "id": "d48b16fc",
   "metadata": {},
   "outputs": [],
   "source": [
    "df['TimeStamp'] = pd.to_datetime(df['TimeStamp'])"
   ]
  },
  {
   "cell_type": "code",
   "execution_count": 28,
   "id": "9ff09918",
   "metadata": {},
   "outputs": [],
   "source": [
    "df['hour'] = df['TimeStamp'].dt.hour"
   ]
  },
  {
   "cell_type": "code",
   "execution_count": 29,
   "id": "eade57c9",
   "metadata": {},
   "outputs": [],
   "source": [
    "hourly_activity = df.groupby(['user_id', 'hour']).size().unstack(fill_value=0)"
   ]
  },
  {
   "cell_type": "code",
   "execution_count": 30,
   "id": "3f16bf46",
   "metadata": {},
   "outputs": [
    {
     "name": "stdout",
     "output_type": "stream",
     "text": [
      "1. Total number of action performed by each user: \n",
      "3    4\n",
      "2    4\n",
      "1    4\n",
      "4    3\n",
      "Name: user_id, dtype: int64\n",
      "\n",
      "2. Most common action performed by user: \n",
      "Like\n",
      "\n",
      "3. User with the highest engagement: \n",
      "User ID: 3, Total Actions: 4\n",
      "\n",
      "4. Hourly user activity: \n",
      "hour     8   9   10  11  12  13  14  15  17  18  19  22\n",
      "user_id                                                \n",
      "1         0   0   1   1   0   0   1   0   0   0   1   0\n",
      "2         0   1   0   1   0   0   0   0   1   0   0   1\n",
      "3         1   0   0   0   1   0   0   1   0   1   0   0\n",
      "4         1   1   0   0   0   1   0   0   0   0   0   0\n"
     ]
    }
   ],
   "source": [
    "print(\"1. Total number of action performed by each user: \")\n",
    "print(total_action_by_user)\n",
    "print(\"\\n2. Most common action performed by user: \")\n",
    "print(most_common_action)\n",
    "print(\"\\n3. User with the highest engagement: \")\n",
    "print(f\"User ID: {user_with_highest_engagement}, Total Actions: {total_action_by_user.max()}\")\n",
    "print(\"\\n4. Hourly user activity: \")\n",
    "print(hourly_activity)"
   ]
  },
  {
   "cell_type": "code",
   "execution_count": null,
   "id": "da038257",
   "metadata": {},
   "outputs": [],
   "source": []
  },
  {
   "cell_type": "code",
   "execution_count": null,
   "id": "015a0174",
   "metadata": {},
   "outputs": [],
   "source": []
  }
 ],
 "metadata": {
  "kernelspec": {
   "display_name": "Python 3",
   "language": "python",
   "name": "python3"
  },
  "language_info": {
   "codemirror_mode": {
    "name": "ipython",
    "version": 3
   },
   "file_extension": ".py",
   "mimetype": "text/x-python",
   "name": "python",
   "nbconvert_exporter": "python",
   "pygments_lexer": "ipython3",
   "version": "3.6.2"
  }
 },
 "nbformat": 4,
 "nbformat_minor": 5
}
